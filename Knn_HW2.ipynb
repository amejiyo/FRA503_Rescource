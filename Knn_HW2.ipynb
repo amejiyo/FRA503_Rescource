{
  "nbformat": 4,
  "nbformat_minor": 0,
  "metadata": {
    "interpreter": {
      "hash": "7812ea015bdcee6f23a998adcdd2ef97c151c0c241b7b7070987d9313e41299d"
    },
    "kernelspec": {
      "display_name": "Python 3.9.6 64-bit",
      "name": "python3"
    },
    "language_info": {
      "codemirror_mode": {
        "name": "ipython",
        "version": 3
      },
      "file_extension": ".py",
      "mimetype": "text/x-python",
      "name": "python",
      "nbconvert_exporter": "python",
      "pygments_lexer": "ipython3",
      "version": "3.9.6"
    },
    "orig_nbformat": 4,
    "colab": {
      "name": "Knn_HW2.ipynb",
      "provenance": [],
      "include_colab_link": true
    }
  },
  "cells": [
    {
      "cell_type": "markdown",
      "metadata": {
        "id": "view-in-github",
        "colab_type": "text"
      },
      "source": [
        "<a href=\"https://colab.research.google.com/github/amejiyo/FRA503_Rescource/blob/main/Knn_HW2.ipynb\" target=\"_parent\"><img src=\"https://colab.research.google.com/assets/colab-badge.svg\" alt=\"Open In Colab\"/></a>"
      ]
    },
    {
      "cell_type": "code",
      "metadata": {
        "id": "UoDyMz_Fm8Bs"
      },
      "source": [
        "import pandas as pd\n",
        "from sklearn import preprocessing\n",
        "import numpy as np\n",
        "df_train = pd.read_csv(\"https://raw.githubusercontent.com/amejiyo/FRA503_Rescource/main/census-income.data\",low_memory=False)\n",
        "df_test = pd.read_csv(\"https://raw.githubusercontent.com/amejiyo/FRA503_Rescource/main/census-income.test\",low_memory=False)\n",
        "df_train.columns = ['AAGE','ACLSWKR','ADTIND','ADTOCC','EDU','AHRSPAY','ENROLL','MARTSTAT','MJINDCODE','MJOCPCAODE','RACE','HISPANORG','SEX','MEMLBUN','RUNEMPL','EMPSTAT','CAPGAIN','CAPLOSS','DIVVAL','TAXSTAT','REGPRES','STATEPRES','FAMSTAT','SUMHOUSE','INSTWEIGHT','MSACODE','REGCODE','REGCODECH','LIVE1YP','MGPSUNB','NUMEMPLY','NUMFAMUNDER18','COUNTRYF','COUNTRYM','COUNTRYSELF','CITIZEN','EMPLYEE','VETERADMIN','VETERBEF','WEEKWRK','YEAR', 'LABEL']\n",
        "df_test.columns = ['AAGE','ACLSWKR','ADTIND','ADTOCC','EDU','AHRSPAY','ENROLL','MARTSTAT','MJINDCODE','MJOCPCAODE','RACE','HISPANORG','SEX','MEMLBUN','RUNEMPL','EMPSTAT','CAPGAIN','CAPLOSS','DIVVAL','TAXSTAT','REGPRES','STATEPRES','FAMSTAT','SUMHOUSE','INSTWEIGHT','MSACODE','REGCODE','REGCODECH','LIVE1YP','MGPSUNB','NUMEMPLY','NUMFAMUNDER18','COUNTRYF','COUNTRYM','COUNTRYSELF','CITIZEN','EMPLYEE','VETERADMIN','VETERBEF','WEEKWRK','YEAR', 'LABEL']\n",
        "# df_test.shape\n"
      ],
      "execution_count": 2,
      "outputs": []
    },
    {
      "cell_type": "code",
      "metadata": {
        "colab": {
          "base_uri": "https://localhost:8080/",
          "height": 564
        },
        "id": "7YjTfDIfm8Bz",
        "outputId": "bd79aa9f-3792-4df4-a296-959359727d63"
      },
      "source": [
        "df_test.head()"
      ],
      "execution_count": 3,
      "outputs": [
        {
          "output_type": "execute_result",
          "data": {
            "text/html": [
              "<div>\n",
              "<style scoped>\n",
              "    .dataframe tbody tr th:only-of-type {\n",
              "        vertical-align: middle;\n",
              "    }\n",
              "\n",
              "    .dataframe tbody tr th {\n",
              "        vertical-align: top;\n",
              "    }\n",
              "\n",
              "    .dataframe thead th {\n",
              "        text-align: right;\n",
              "    }\n",
              "</style>\n",
              "<table border=\"1\" class=\"dataframe\">\n",
              "  <thead>\n",
              "    <tr style=\"text-align: right;\">\n",
              "      <th></th>\n",
              "      <th>AAGE</th>\n",
              "      <th>ACLSWKR</th>\n",
              "      <th>ADTIND</th>\n",
              "      <th>ADTOCC</th>\n",
              "      <th>EDU</th>\n",
              "      <th>AHRSPAY</th>\n",
              "      <th>ENROLL</th>\n",
              "      <th>MARTSTAT</th>\n",
              "      <th>MJINDCODE</th>\n",
              "      <th>MJOCPCAODE</th>\n",
              "      <th>RACE</th>\n",
              "      <th>HISPANORG</th>\n",
              "      <th>SEX</th>\n",
              "      <th>MEMLBUN</th>\n",
              "      <th>RUNEMPL</th>\n",
              "      <th>EMPSTAT</th>\n",
              "      <th>CAPGAIN</th>\n",
              "      <th>CAPLOSS</th>\n",
              "      <th>DIVVAL</th>\n",
              "      <th>TAXSTAT</th>\n",
              "      <th>REGPRES</th>\n",
              "      <th>STATEPRES</th>\n",
              "      <th>FAMSTAT</th>\n",
              "      <th>SUMHOUSE</th>\n",
              "      <th>INSTWEIGHT</th>\n",
              "      <th>MSACODE</th>\n",
              "      <th>REGCODE</th>\n",
              "      <th>REGCODECH</th>\n",
              "      <th>LIVE1YP</th>\n",
              "      <th>MGPSUNB</th>\n",
              "      <th>NUMEMPLY</th>\n",
              "      <th>NUMFAMUNDER18</th>\n",
              "      <th>COUNTRYF</th>\n",
              "      <th>COUNTRYM</th>\n",
              "      <th>COUNTRYSELF</th>\n",
              "      <th>CITIZEN</th>\n",
              "      <th>EMPLYEE</th>\n",
              "      <th>VETERADMIN</th>\n",
              "      <th>VETERBEF</th>\n",
              "      <th>WEEKWRK</th>\n",
              "      <th>YEAR</th>\n",
              "      <th>LABEL</th>\n",
              "    </tr>\n",
              "  </thead>\n",
              "  <tbody>\n",
              "    <tr>\n",
              "      <th>0</th>\n",
              "      <td>44</td>\n",
              "      <td>Self-employed-not incorporated</td>\n",
              "      <td>37</td>\n",
              "      <td>12</td>\n",
              "      <td>Associates degree-occup /vocational</td>\n",
              "      <td>0</td>\n",
              "      <td>Not in universe</td>\n",
              "      <td>Married-civilian spouse present</td>\n",
              "      <td>Business and repair services</td>\n",
              "      <td>Professional specialty</td>\n",
              "      <td>White</td>\n",
              "      <td>All other</td>\n",
              "      <td>Female</td>\n",
              "      <td>Not in universe</td>\n",
              "      <td>Not in universe</td>\n",
              "      <td>PT for econ reasons usually PT</td>\n",
              "      <td>0</td>\n",
              "      <td>0</td>\n",
              "      <td>2500</td>\n",
              "      <td>Joint both under 65</td>\n",
              "      <td>Not in universe</td>\n",
              "      <td>Not in universe</td>\n",
              "      <td>Spouse of householder</td>\n",
              "      <td>Spouse of householder</td>\n",
              "      <td>1462.33</td>\n",
              "      <td>?</td>\n",
              "      <td>?</td>\n",
              "      <td>?</td>\n",
              "      <td>Not in universe under 1 year old</td>\n",
              "      <td>?</td>\n",
              "      <td>1</td>\n",
              "      <td>Not in universe</td>\n",
              "      <td>United-States</td>\n",
              "      <td>United-States</td>\n",
              "      <td>United-States</td>\n",
              "      <td>Native- Born in the United States</td>\n",
              "      <td>0</td>\n",
              "      <td>Not in universe</td>\n",
              "      <td>2</td>\n",
              "      <td>26</td>\n",
              "      <td>95</td>\n",
              "      <td>- 50000.</td>\n",
              "    </tr>\n",
              "    <tr>\n",
              "      <th>1</th>\n",
              "      <td>2</td>\n",
              "      <td>Not in universe</td>\n",
              "      <td>0</td>\n",
              "      <td>0</td>\n",
              "      <td>Children</td>\n",
              "      <td>0</td>\n",
              "      <td>Not in universe</td>\n",
              "      <td>Never married</td>\n",
              "      <td>Not in universe or children</td>\n",
              "      <td>Not in universe</td>\n",
              "      <td>White</td>\n",
              "      <td>Mexican-American</td>\n",
              "      <td>Male</td>\n",
              "      <td>Not in universe</td>\n",
              "      <td>Not in universe</td>\n",
              "      <td>Children or Armed Forces</td>\n",
              "      <td>0</td>\n",
              "      <td>0</td>\n",
              "      <td>0</td>\n",
              "      <td>Nonfiler</td>\n",
              "      <td>Not in universe</td>\n",
              "      <td>Not in universe</td>\n",
              "      <td>Child &lt;18 never marr not in subfamily</td>\n",
              "      <td>Child under 18 never married</td>\n",
              "      <td>1601.75</td>\n",
              "      <td>?</td>\n",
              "      <td>?</td>\n",
              "      <td>?</td>\n",
              "      <td>Not in universe under 1 year old</td>\n",
              "      <td>?</td>\n",
              "      <td>0</td>\n",
              "      <td>Both parents present</td>\n",
              "      <td>United-States</td>\n",
              "      <td>United-States</td>\n",
              "      <td>United-States</td>\n",
              "      <td>Native- Born in the United States</td>\n",
              "      <td>0</td>\n",
              "      <td>Not in universe</td>\n",
              "      <td>0</td>\n",
              "      <td>0</td>\n",
              "      <td>95</td>\n",
              "      <td>- 50000.</td>\n",
              "    </tr>\n",
              "    <tr>\n",
              "      <th>2</th>\n",
              "      <td>35</td>\n",
              "      <td>Private</td>\n",
              "      <td>29</td>\n",
              "      <td>3</td>\n",
              "      <td>High school graduate</td>\n",
              "      <td>0</td>\n",
              "      <td>Not in universe</td>\n",
              "      <td>Divorced</td>\n",
              "      <td>Transportation</td>\n",
              "      <td>Executive admin and managerial</td>\n",
              "      <td>White</td>\n",
              "      <td>All other</td>\n",
              "      <td>Female</td>\n",
              "      <td>Not in universe</td>\n",
              "      <td>Not in universe</td>\n",
              "      <td>Children or Armed Forces</td>\n",
              "      <td>0</td>\n",
              "      <td>0</td>\n",
              "      <td>0</td>\n",
              "      <td>Head of household</td>\n",
              "      <td>Not in universe</td>\n",
              "      <td>Not in universe</td>\n",
              "      <td>Householder</td>\n",
              "      <td>Householder</td>\n",
              "      <td>1866.88</td>\n",
              "      <td>Nonmover</td>\n",
              "      <td>Nonmover</td>\n",
              "      <td>Nonmover</td>\n",
              "      <td>Yes</td>\n",
              "      <td>Not in universe</td>\n",
              "      <td>5</td>\n",
              "      <td>Not in universe</td>\n",
              "      <td>United-States</td>\n",
              "      <td>United-States</td>\n",
              "      <td>United-States</td>\n",
              "      <td>Native- Born in the United States</td>\n",
              "      <td>2</td>\n",
              "      <td>Not in universe</td>\n",
              "      <td>2</td>\n",
              "      <td>52</td>\n",
              "      <td>94</td>\n",
              "      <td>- 50000.</td>\n",
              "    </tr>\n",
              "    <tr>\n",
              "      <th>3</th>\n",
              "      <td>49</td>\n",
              "      <td>Private</td>\n",
              "      <td>4</td>\n",
              "      <td>34</td>\n",
              "      <td>High school graduate</td>\n",
              "      <td>0</td>\n",
              "      <td>Not in universe</td>\n",
              "      <td>Divorced</td>\n",
              "      <td>Construction</td>\n",
              "      <td>Precision production craft &amp; repair</td>\n",
              "      <td>White</td>\n",
              "      <td>All other</td>\n",
              "      <td>Male</td>\n",
              "      <td>Not in universe</td>\n",
              "      <td>Not in universe</td>\n",
              "      <td>Full-time schedules</td>\n",
              "      <td>0</td>\n",
              "      <td>0</td>\n",
              "      <td>0</td>\n",
              "      <td>Single</td>\n",
              "      <td>Not in universe</td>\n",
              "      <td>Not in universe</td>\n",
              "      <td>Secondary individual</td>\n",
              "      <td>Nonrelative of householder</td>\n",
              "      <td>1394.54</td>\n",
              "      <td>?</td>\n",
              "      <td>?</td>\n",
              "      <td>?</td>\n",
              "      <td>Not in universe under 1 year old</td>\n",
              "      <td>?</td>\n",
              "      <td>4</td>\n",
              "      <td>Not in universe</td>\n",
              "      <td>United-States</td>\n",
              "      <td>United-States</td>\n",
              "      <td>United-States</td>\n",
              "      <td>Native- Born in the United States</td>\n",
              "      <td>0</td>\n",
              "      <td>Not in universe</td>\n",
              "      <td>2</td>\n",
              "      <td>50</td>\n",
              "      <td>95</td>\n",
              "      <td>- 50000.</td>\n",
              "    </tr>\n",
              "    <tr>\n",
              "      <th>4</th>\n",
              "      <td>13</td>\n",
              "      <td>Not in universe</td>\n",
              "      <td>0</td>\n",
              "      <td>0</td>\n",
              "      <td>Children</td>\n",
              "      <td>0</td>\n",
              "      <td>Not in universe</td>\n",
              "      <td>Never married</td>\n",
              "      <td>Not in universe or children</td>\n",
              "      <td>Not in universe</td>\n",
              "      <td>White</td>\n",
              "      <td>All other</td>\n",
              "      <td>Male</td>\n",
              "      <td>Not in universe</td>\n",
              "      <td>Not in universe</td>\n",
              "      <td>Children or Armed Forces</td>\n",
              "      <td>0</td>\n",
              "      <td>0</td>\n",
              "      <td>0</td>\n",
              "      <td>Nonfiler</td>\n",
              "      <td>Not in universe</td>\n",
              "      <td>Not in universe</td>\n",
              "      <td>Child &lt;18 never marr not in subfamily</td>\n",
              "      <td>Child under 18 never married</td>\n",
              "      <td>2556.34</td>\n",
              "      <td>Nonmover</td>\n",
              "      <td>Nonmover</td>\n",
              "      <td>Nonmover</td>\n",
              "      <td>Yes</td>\n",
              "      <td>Not in universe</td>\n",
              "      <td>0</td>\n",
              "      <td>Both parents present</td>\n",
              "      <td>Germany</td>\n",
              "      <td>United-States</td>\n",
              "      <td>United-States</td>\n",
              "      <td>Native- Born in the United States</td>\n",
              "      <td>0</td>\n",
              "      <td>Not in universe</td>\n",
              "      <td>0</td>\n",
              "      <td>0</td>\n",
              "      <td>94</td>\n",
              "      <td>- 50000.</td>\n",
              "    </tr>\n",
              "  </tbody>\n",
              "</table>\n",
              "</div>"
            ],
            "text/plain": [
              "   AAGE                          ACLSWKR  ADTIND  ...  WEEKWRK YEAR      LABEL\n",
              "0    44   Self-employed-not incorporated      37  ...       26   95   - 50000.\n",
              "1     2                  Not in universe       0  ...        0   95   - 50000.\n",
              "2    35                          Private      29  ...       52   94   - 50000.\n",
              "3    49                          Private       4  ...       50   95   - 50000.\n",
              "4    13                  Not in universe       0  ...        0   94   - 50000.\n",
              "\n",
              "[5 rows x 42 columns]"
            ]
          },
          "metadata": {},
          "execution_count": 3
        }
      ]
    },
    {
      "cell_type": "markdown",
      "metadata": {
        "id": "sslLBnUSm8B2"
      },
      "source": [
        "To handling the confuding information, we will select only 10 significant attributes after removing missing value and duplicates. "
      ]
    },
    {
      "cell_type": "code",
      "metadata": {
        "colab": {
          "base_uri": "https://localhost:8080/"
        },
        "id": "Pl_3lZwxm8B4",
        "outputId": "c42d853e-a01b-407b-b6a0-ca7e066a79f6"
      },
      "source": [
        "#preprocessing of training data\n",
        "#delete missing value + reset index\n",
        "df_train = df_train.dropna(axis=0,how='any')\n",
        "# for i in df_train.columns:\n",
        "#     try:\n",
        "#         df_train = df_train[df_train[i].str.contains(\"\\?\")==False]\n",
        "#     except:\n",
        "#         pass\n",
        "# df_train = df_train.reset_index().reindex(df_train.columns, axis=1)\n",
        "#remove duplicates\n",
        "df_train = df_train.drop_duplicates(subset=None)\n",
        "#training set\n",
        "df_train['SEX'].replace({\" Male\": 0, \" Female\": 1}, inplace=True)\n",
        "df_train['YEAR'].replace({94: 0, 95: 1}, inplace=True)\n",
        "df_train['LABEL'].replace({\" - 50000.\": 0,\" 50000+.\": 1}, inplace=True)\n",
        "\n",
        "#testning set\n",
        "df_test['SEX'].replace({\" Male\": 0, \" Female\": 1}, inplace=True)\n",
        "df_test['YEAR'].replace({94: 0, 95: 1}, inplace=True)\n",
        "df_test['LABEL'].replace({\" - 50000.\": 0,\" 50000+.\": 1}, inplace=True)"
      ],
      "execution_count": 4,
      "outputs": [
        {
          "output_type": "stream",
          "name": "stderr",
          "text": [
            "/usr/local/lib/python3.7/dist-packages/pandas/core/series.py:4582: SettingWithCopyWarning: \n",
            "A value is trying to be set on a copy of a slice from a DataFrame\n",
            "\n",
            "See the caveats in the documentation: https://pandas.pydata.org/pandas-docs/stable/user_guide/indexing.html#returning-a-view-versus-a-copy\n",
            "  method=method,\n"
          ]
        }
      ]
    },
    {
      "cell_type": "code",
      "metadata": {
        "id": "HGdpPUDvm8B6"
      },
      "source": [
        "col_category = ['ACLSWKR','ADTIND','ADTOCC','EDU','ENROLL','MARTSTAT','MJINDCODE','MJOCPCAODE','RACE','HISPANORG','MEMLBUN','RUNEMPL','EMPSTAT','TAXSTAT','REGPRES','STATEPRES','FAMSTAT','SUMHOUSE','MSACODE','REGCODE','REGCODECH','LIVE1YP','MGPSUNB','NUMFAMUNDER18','COUNTRYF','COUNTRYM','COUNTRYSELF','CITIZEN','EMPLYEE','VETERADMIN','VETERBEF']\n",
        "\n",
        "for i in df_train.columns:\n",
        "    if i in col_category:\n",
        "        df_train[i] = df_train[i].astype(str)\n",
        "        df_test[i] = df_test[i].astype(str)\n"
      ],
      "execution_count": 5,
      "outputs": []
    },
    {
      "cell_type": "code",
      "metadata": {
        "id": "w_CC8DH_m8B7"
      },
      "source": [
        "df_train_drop_ques = pd.get_dummies(df_train.drop(columns=['MSACODE','REGCODECH','REGCODE','MGPSUNB']))\n",
        "df_test_drop_ques = pd.get_dummies(df_test.drop(columns=['MSACODE','REGCODECH','REGCODE','MGPSUNB']))"
      ],
      "execution_count": 6,
      "outputs": []
    },
    {
      "cell_type": "code",
      "metadata": {
        "id": "UP46D6SMm8B8"
      },
      "source": [
        "for i in df_train.columns:\n",
        "    try:\n",
        "        df_train = df_train[df_train[i].str.contains(\"\\?\")==False]\n",
        "    except:\n",
        "        pass\n",
        "df_train = df_train.reset_index().reindex(df_train.columns, axis=1)\n",
        "\n",
        "for i in df_test.columns:\n",
        "    try:\n",
        "        df_test = df_test[df_test[i].str.contains(\"\\?\")==False]\n",
        "    except:\n",
        "        pass\n",
        "df_test = df_test.reset_index().reindex(df_test.columns, axis=1)"
      ],
      "execution_count": 7,
      "outputs": []
    },
    {
      "cell_type": "code",
      "metadata": {
        "colab": {
          "base_uri": "https://localhost:8080/"
        },
        "id": "uFhkxOm6m8B8",
        "outputId": "d8b9ac0f-e52c-4a32-e40a-e5c50d2688fe"
      },
      "source": [
        "df_train_onehot = pd.get_dummies(df_train)\n",
        "df_test_onehot = pd.get_dummies(df_test)\n",
        "df_test_drop_ques['FAMSTAT_ Grandchild <18 ever marr not in subfamily'] = 0\n",
        "df_test_onehot['FAMSTAT_ Grandchild <18 ever marr not in subfamily'] = 0\n",
        "\n",
        "col = df_test_onehot.columns\n",
        "cols = df_train_onehot.columns\n",
        "for i in cols:\n",
        "    if i not in col:\n",
        "        print(i)\n",
        "# print(df_test_onehot.shape)\n",
        "# print(df_test_onehot.shape)\n",
        "y_train = df_train_onehot.LABEL\n",
        "x_train = df_train_onehot.iloc[:,0:df_train_onehot.shape[1]]\n",
        "\n",
        "y_train_drop = df_train_drop_ques.LABEL\n",
        "x_train_drop = df_train_drop_ques.iloc[:,0:df_train_drop_ques.shape[1]].drop(columns=['LABEL'])\n",
        "\n",
        "#test\n",
        "y_test = df_test_onehot.LABEL\n",
        "x_test = df_test_onehot.iloc[:,0:df_train_onehot.shape[1]]\n",
        "\n",
        "y_test_drop = df_test_drop_ques.LABEL\n",
        "x_test_drop = df_test_drop_ques.iloc[:,0:df_train_onehot.shape[1]].drop(columns=['LABEL'])\n",
        "col = x_train.columns\n",
        "# print(col.to_list())"
      ],
      "execution_count": 8,
      "outputs": [
        {
          "output_type": "stream",
          "name": "stdout",
          "text": [
            "ADTIND_10\n",
            "FAMSTAT_ Other Rel <18 ever marr RP of subfamily\n"
          ]
        }
      ]
    },
    {
      "cell_type": "code",
      "metadata": {
        "colab": {
          "base_uri": "https://localhost:8080/"
        },
        "id": "1vD3AyUSm8B9",
        "outputId": "39f0bbdd-7859-410b-b3f0-f42053cf9225"
      },
      "source": [
        "print(col.to_list())"
      ],
      "execution_count": 9,
      "outputs": [
        {
          "output_type": "stream",
          "name": "stdout",
          "text": [
            "['AAGE', 'AHRSPAY', 'SEX', 'CAPGAIN', 'CAPLOSS', 'DIVVAL', 'INSTWEIGHT', 'NUMEMPLY', 'WEEKWRK', 'YEAR', 'LABEL', 'ACLSWKR_ Federal government', 'ACLSWKR_ Local government', 'ACLSWKR_ Never worked', 'ACLSWKR_ Not in universe', 'ACLSWKR_ Private', 'ACLSWKR_ Self-employed-incorporated', 'ACLSWKR_ Self-employed-not incorporated', 'ACLSWKR_ State government', 'ACLSWKR_ Without pay', 'ADTIND_0', 'ADTIND_1', 'ADTIND_10', 'ADTIND_11', 'ADTIND_12', 'ADTIND_13', 'ADTIND_14', 'ADTIND_15', 'ADTIND_16', 'ADTIND_17', 'ADTIND_18', 'ADTIND_19', 'ADTIND_2', 'ADTIND_20', 'ADTIND_21', 'ADTIND_22', 'ADTIND_23', 'ADTIND_24', 'ADTIND_25', 'ADTIND_26', 'ADTIND_27', 'ADTIND_28', 'ADTIND_29', 'ADTIND_3', 'ADTIND_30', 'ADTIND_31', 'ADTIND_32', 'ADTIND_33', 'ADTIND_34', 'ADTIND_35', 'ADTIND_36', 'ADTIND_37', 'ADTIND_38', 'ADTIND_39', 'ADTIND_4', 'ADTIND_40', 'ADTIND_41', 'ADTIND_42', 'ADTIND_43', 'ADTIND_44', 'ADTIND_45', 'ADTIND_46', 'ADTIND_47', 'ADTIND_48', 'ADTIND_49', 'ADTIND_5', 'ADTIND_50', 'ADTIND_51', 'ADTIND_6', 'ADTIND_7', 'ADTIND_8', 'ADTIND_9', 'ADTOCC_0', 'ADTOCC_1', 'ADTOCC_10', 'ADTOCC_11', 'ADTOCC_12', 'ADTOCC_13', 'ADTOCC_14', 'ADTOCC_15', 'ADTOCC_16', 'ADTOCC_17', 'ADTOCC_18', 'ADTOCC_19', 'ADTOCC_2', 'ADTOCC_20', 'ADTOCC_21', 'ADTOCC_22', 'ADTOCC_23', 'ADTOCC_24', 'ADTOCC_25', 'ADTOCC_26', 'ADTOCC_27', 'ADTOCC_28', 'ADTOCC_29', 'ADTOCC_3', 'ADTOCC_30', 'ADTOCC_31', 'ADTOCC_32', 'ADTOCC_33', 'ADTOCC_34', 'ADTOCC_35', 'ADTOCC_36', 'ADTOCC_37', 'ADTOCC_38', 'ADTOCC_39', 'ADTOCC_4', 'ADTOCC_40', 'ADTOCC_41', 'ADTOCC_42', 'ADTOCC_43', 'ADTOCC_44', 'ADTOCC_45', 'ADTOCC_46', 'ADTOCC_5', 'ADTOCC_6', 'ADTOCC_7', 'ADTOCC_8', 'ADTOCC_9', 'EDU_ 10th grade', 'EDU_ 11th grade', 'EDU_ 12th grade no diploma', 'EDU_ 1st 2nd 3rd or 4th grade', 'EDU_ 5th or 6th grade', 'EDU_ 7th and 8th grade', 'EDU_ 9th grade', 'EDU_ Associates degree-academic program', 'EDU_ Associates degree-occup /vocational', 'EDU_ Bachelors degree(BA AB BS)', 'EDU_ Children', 'EDU_ Doctorate degree(PhD EdD)', 'EDU_ High school graduate', 'EDU_ Less than 1st grade', 'EDU_ Masters degree(MA MS MEng MEd MSW MBA)', 'EDU_ Prof school degree (MD DDS DVM LLB JD)', 'EDU_ Some college but no degree', 'ENROLL_ College or university', 'ENROLL_ High school', 'ENROLL_ Not in universe', 'MARTSTAT_ Divorced', 'MARTSTAT_ Married-A F spouse present', 'MARTSTAT_ Married-civilian spouse present', 'MARTSTAT_ Married-spouse absent', 'MARTSTAT_ Never married', 'MARTSTAT_ Separated', 'MARTSTAT_ Widowed', 'MJINDCODE_ Agriculture', 'MJINDCODE_ Armed Forces', 'MJINDCODE_ Business and repair services', 'MJINDCODE_ Communications', 'MJINDCODE_ Construction', 'MJINDCODE_ Education', 'MJINDCODE_ Entertainment', 'MJINDCODE_ Finance insurance and real estate', 'MJINDCODE_ Forestry and fisheries', 'MJINDCODE_ Hospital services', 'MJINDCODE_ Manufacturing-durable goods', 'MJINDCODE_ Manufacturing-nondurable goods', 'MJINDCODE_ Medical except hospital', 'MJINDCODE_ Mining', 'MJINDCODE_ Not in universe or children', 'MJINDCODE_ Other professional services', 'MJINDCODE_ Personal services except private HH', 'MJINDCODE_ Private household services', 'MJINDCODE_ Public administration', 'MJINDCODE_ Retail trade', 'MJINDCODE_ Social services', 'MJINDCODE_ Transportation', 'MJINDCODE_ Utilities and sanitary services', 'MJINDCODE_ Wholesale trade', 'MJOCPCAODE_ Adm support including clerical', 'MJOCPCAODE_ Armed Forces', 'MJOCPCAODE_ Executive admin and managerial', 'MJOCPCAODE_ Farming forestry and fishing', 'MJOCPCAODE_ Handlers equip cleaners etc ', 'MJOCPCAODE_ Machine operators assmblrs & inspctrs', 'MJOCPCAODE_ Not in universe', 'MJOCPCAODE_ Other service', 'MJOCPCAODE_ Precision production craft & repair', 'MJOCPCAODE_ Private household services', 'MJOCPCAODE_ Professional specialty', 'MJOCPCAODE_ Protective services', 'MJOCPCAODE_ Sales', 'MJOCPCAODE_ Technicians and related support', 'MJOCPCAODE_ Transportation and material moving', 'RACE_ Amer Indian Aleut or Eskimo', 'RACE_ Asian or Pacific Islander', 'RACE_ Black', 'RACE_ Other', 'RACE_ White', 'HISPANORG_ All other', 'HISPANORG_ Central or South American', 'HISPANORG_ Chicano', 'HISPANORG_ Cuban', 'HISPANORG_ Do not know', 'HISPANORG_ Mexican (Mexicano)', 'HISPANORG_ Mexican-American', 'HISPANORG_ NA', 'HISPANORG_ Other Spanish', 'HISPANORG_ Puerto Rican', 'MEMLBUN_ No', 'MEMLBUN_ Not in universe', 'MEMLBUN_ Yes', 'RUNEMPL_ Job leaver', 'RUNEMPL_ Job loser - on layoff', 'RUNEMPL_ New entrant', 'RUNEMPL_ Not in universe', 'RUNEMPL_ Other job loser', 'RUNEMPL_ Re-entrant', 'EMPSTAT_ Children or Armed Forces', 'TAXSTAT_ Head of household', 'TAXSTAT_ Joint both 65+', 'TAXSTAT_ Joint both under 65', 'TAXSTAT_ Joint one under 65 & one 65+', 'TAXSTAT_ Nonfiler', 'TAXSTAT_ Single', 'REGPRES_ Abroad', 'REGPRES_ Midwest', 'REGPRES_ Northeast', 'REGPRES_ Not in universe', 'REGPRES_ South', 'REGPRES_ West', 'STATEPRES_ Abroad', 'STATEPRES_ Alabama', 'STATEPRES_ Alaska', 'STATEPRES_ Arizona', 'STATEPRES_ Arkansas', 'STATEPRES_ California', 'STATEPRES_ Colorado', 'STATEPRES_ Connecticut', 'STATEPRES_ Delaware', 'STATEPRES_ District of Columbia', 'STATEPRES_ Florida', 'STATEPRES_ Georgia', 'STATEPRES_ Idaho', 'STATEPRES_ Illinois', 'STATEPRES_ Indiana', 'STATEPRES_ Iowa', 'STATEPRES_ Kansas', 'STATEPRES_ Kentucky', 'STATEPRES_ Louisiana', 'STATEPRES_ Maine', 'STATEPRES_ Maryland', 'STATEPRES_ Massachusetts', 'STATEPRES_ Michigan', 'STATEPRES_ Minnesota', 'STATEPRES_ Mississippi', 'STATEPRES_ Missouri', 'STATEPRES_ Montana', 'STATEPRES_ Nebraska', 'STATEPRES_ Nevada', 'STATEPRES_ New Hampshire', 'STATEPRES_ New Jersey', 'STATEPRES_ New Mexico', 'STATEPRES_ New York', 'STATEPRES_ North Carolina', 'STATEPRES_ North Dakota', 'STATEPRES_ Not in universe', 'STATEPRES_ Ohio', 'STATEPRES_ Oklahoma', 'STATEPRES_ Oregon', 'STATEPRES_ Pennsylvania', 'STATEPRES_ South Carolina', 'STATEPRES_ South Dakota', 'STATEPRES_ Tennessee', 'STATEPRES_ Texas', 'STATEPRES_ Utah', 'STATEPRES_ Vermont', 'STATEPRES_ Virginia', 'STATEPRES_ West Virginia', 'STATEPRES_ Wisconsin', 'STATEPRES_ Wyoming', 'FAMSTAT_ Child 18+ ever marr Not in a subfamily', 'FAMSTAT_ Child 18+ ever marr RP of subfamily', 'FAMSTAT_ Child 18+ never marr Not in a subfamily', 'FAMSTAT_ Child 18+ never marr RP of subfamily', 'FAMSTAT_ Child 18+ spouse of subfamily RP', 'FAMSTAT_ Child <18 ever marr RP of subfamily', 'FAMSTAT_ Child <18 ever marr not in subfamily', 'FAMSTAT_ Child <18 never marr RP of subfamily', 'FAMSTAT_ Child <18 never marr not in subfamily', 'FAMSTAT_ Child <18 spouse of subfamily RP', 'FAMSTAT_ Child under 18 of RP of unrel subfamily', 'FAMSTAT_ Grandchild 18+ ever marr RP of subfamily', 'FAMSTAT_ Grandchild 18+ ever marr not in subfamily', 'FAMSTAT_ Grandchild 18+ never marr RP of subfamily', 'FAMSTAT_ Grandchild 18+ never marr not in subfamily', 'FAMSTAT_ Grandchild 18+ spouse of subfamily RP', 'FAMSTAT_ Grandchild <18 ever marr not in subfamily', 'FAMSTAT_ Grandchild <18 never marr RP of subfamily', 'FAMSTAT_ Grandchild <18 never marr child of subfamily RP', 'FAMSTAT_ Grandchild <18 never marr not in subfamily', 'FAMSTAT_ Householder', 'FAMSTAT_ In group quarters', 'FAMSTAT_ Nonfamily householder', 'FAMSTAT_ Other Rel 18+ ever marr RP of subfamily', 'FAMSTAT_ Other Rel 18+ ever marr not in subfamily', 'FAMSTAT_ Other Rel 18+ never marr RP of subfamily', 'FAMSTAT_ Other Rel 18+ never marr not in subfamily', 'FAMSTAT_ Other Rel 18+ spouse of subfamily RP', 'FAMSTAT_ Other Rel <18 ever marr RP of subfamily', 'FAMSTAT_ Other Rel <18 never marr child of subfamily RP', 'FAMSTAT_ Other Rel <18 never marr not in subfamily', 'FAMSTAT_ Other Rel <18 never married RP of subfamily', 'FAMSTAT_ Other Rel <18 spouse of subfamily RP', 'FAMSTAT_ RP of unrelated subfamily', 'FAMSTAT_ Secondary individual', 'FAMSTAT_ Spouse of RP of unrelated subfamily', 'FAMSTAT_ Spouse of householder', 'SUMHOUSE_ Child 18 or older', 'SUMHOUSE_ Child under 18 ever married', 'SUMHOUSE_ Child under 18 never married', 'SUMHOUSE_ Group Quarters- Secondary individual', 'SUMHOUSE_ Householder', 'SUMHOUSE_ Nonrelative of householder', 'SUMHOUSE_ Other relative of householder', 'SUMHOUSE_ Spouse of householder', 'MSACODE_ Abroad to MSA', 'MSACODE_ Abroad to nonMSA', 'MSACODE_ MSA to MSA', 'MSACODE_ MSA to nonMSA', 'MSACODE_ NonMSA to MSA', 'MSACODE_ NonMSA to nonMSA', 'MSACODE_ Nonmover', 'MSACODE_ Not identifiable', 'MSACODE_ Not in universe', 'REGCODE_ Abroad', 'REGCODE_ Different county same state', 'REGCODE_ Different division same region', 'REGCODE_ Different region', 'REGCODE_ Different state same division', 'REGCODE_ Nonmover', 'REGCODE_ Not in universe', 'REGCODE_ Same county', 'REGCODECH_ Abroad', 'REGCODECH_ Different county same state', 'REGCODECH_ Different state in Midwest', 'REGCODECH_ Different state in Northeast', 'REGCODECH_ Different state in South', 'REGCODECH_ Different state in West', 'REGCODECH_ Nonmover', 'REGCODECH_ Not in universe', 'REGCODECH_ Same county', 'LIVE1YP_ No', 'LIVE1YP_ Not in universe under 1 year old', 'LIVE1YP_ Yes', 'MGPSUNB_ No', 'MGPSUNB_ Not in universe', 'MGPSUNB_ Yes', 'NUMFAMUNDER18_ Both parents present', 'NUMFAMUNDER18_ Father only present', 'NUMFAMUNDER18_ Mother only present', 'NUMFAMUNDER18_ Neither parent present', 'NUMFAMUNDER18_ Not in universe', 'COUNTRYF_ Cambodia', 'COUNTRYF_ Canada', 'COUNTRYF_ China', 'COUNTRYF_ Columbia', 'COUNTRYF_ Cuba', 'COUNTRYF_ Dominican-Republic', 'COUNTRYF_ Ecuador', 'COUNTRYF_ El-Salvador', 'COUNTRYF_ England', 'COUNTRYF_ France', 'COUNTRYF_ Germany', 'COUNTRYF_ Greece', 'COUNTRYF_ Guatemala', 'COUNTRYF_ Haiti', 'COUNTRYF_ Honduras', 'COUNTRYF_ Hong Kong', 'COUNTRYF_ Hungary', 'COUNTRYF_ India', 'COUNTRYF_ Iran', 'COUNTRYF_ Ireland', 'COUNTRYF_ Italy', 'COUNTRYF_ Jamaica', 'COUNTRYF_ Japan', 'COUNTRYF_ Laos', 'COUNTRYF_ Mexico', 'COUNTRYF_ Nicaragua', 'COUNTRYF_ Outlying-U S (Guam USVI etc)', 'COUNTRYF_ Peru', 'COUNTRYF_ Philippines', 'COUNTRYF_ Poland', 'COUNTRYF_ Portugal', 'COUNTRYF_ Puerto-Rico', 'COUNTRYF_ Scotland', 'COUNTRYF_ South Korea', 'COUNTRYF_ Taiwan', 'COUNTRYF_ Thailand', 'COUNTRYF_ Trinadad&Tobago', 'COUNTRYF_ United-States', 'COUNTRYF_ Vietnam', 'COUNTRYF_ Yugoslavia', 'COUNTRYM_ Cambodia', 'COUNTRYM_ Canada', 'COUNTRYM_ China', 'COUNTRYM_ Columbia', 'COUNTRYM_ Cuba', 'COUNTRYM_ Dominican-Republic', 'COUNTRYM_ Ecuador', 'COUNTRYM_ El-Salvador', 'COUNTRYM_ England', 'COUNTRYM_ France', 'COUNTRYM_ Germany', 'COUNTRYM_ Greece', 'COUNTRYM_ Guatemala', 'COUNTRYM_ Haiti', 'COUNTRYM_ Honduras', 'COUNTRYM_ Hong Kong', 'COUNTRYM_ Hungary', 'COUNTRYM_ India', 'COUNTRYM_ Iran', 'COUNTRYM_ Ireland', 'COUNTRYM_ Italy', 'COUNTRYM_ Jamaica', 'COUNTRYM_ Japan', 'COUNTRYM_ Laos', 'COUNTRYM_ Mexico', 'COUNTRYM_ Nicaragua', 'COUNTRYM_ Outlying-U S (Guam USVI etc)', 'COUNTRYM_ Peru', 'COUNTRYM_ Philippines', 'COUNTRYM_ Poland', 'COUNTRYM_ Portugal', 'COUNTRYM_ Puerto-Rico', 'COUNTRYM_ Scotland', 'COUNTRYM_ South Korea', 'COUNTRYM_ Taiwan', 'COUNTRYM_ Thailand', 'COUNTRYM_ Trinadad&Tobago', 'COUNTRYM_ United-States', 'COUNTRYM_ Vietnam', 'COUNTRYM_ Yugoslavia', 'COUNTRYSELF_ Cambodia', 'COUNTRYSELF_ Canada', 'COUNTRYSELF_ China', 'COUNTRYSELF_ Columbia', 'COUNTRYSELF_ Cuba', 'COUNTRYSELF_ Dominican-Republic', 'COUNTRYSELF_ Ecuador', 'COUNTRYSELF_ El-Salvador', 'COUNTRYSELF_ England', 'COUNTRYSELF_ France', 'COUNTRYSELF_ Germany', 'COUNTRYSELF_ Greece', 'COUNTRYSELF_ Guatemala', 'COUNTRYSELF_ Haiti', 'COUNTRYSELF_ Honduras', 'COUNTRYSELF_ Hong Kong', 'COUNTRYSELF_ Hungary', 'COUNTRYSELF_ India', 'COUNTRYSELF_ Iran', 'COUNTRYSELF_ Ireland', 'COUNTRYSELF_ Italy', 'COUNTRYSELF_ Jamaica', 'COUNTRYSELF_ Japan', 'COUNTRYSELF_ Laos', 'COUNTRYSELF_ Mexico', 'COUNTRYSELF_ Nicaragua', 'COUNTRYSELF_ Outlying-U S (Guam USVI etc)', 'COUNTRYSELF_ Peru', 'COUNTRYSELF_ Philippines', 'COUNTRYSELF_ Poland', 'COUNTRYSELF_ Portugal', 'COUNTRYSELF_ Puerto-Rico', 'COUNTRYSELF_ Scotland', 'COUNTRYSELF_ South Korea', 'COUNTRYSELF_ Taiwan', 'COUNTRYSELF_ Thailand', 'COUNTRYSELF_ Trinadad&Tobago', 'COUNTRYSELF_ United-States', 'COUNTRYSELF_ Vietnam', 'COUNTRYSELF_ Yugoslavia', 'CITIZEN_ Foreign born- Not a citizen of U S ', 'CITIZEN_ Foreign born- U S citizen by naturalization', 'CITIZEN_ Native- Born abroad of American Parent(s)', 'CITIZEN_ Native- Born in Puerto Rico or U S Outlying', 'CITIZEN_ Native- Born in the United States', 'EMPLYEE_0', 'EMPLYEE_1', 'EMPLYEE_2', 'VETERADMIN_ No', 'VETERADMIN_ Not in universe', 'VETERADMIN_ Yes', 'VETERBEF_0', 'VETERBEF_1', 'VETERBEF_2']\n"
          ]
        }
      ]
    },
    {
      "cell_type": "code",
      "metadata": {
        "id": "tlgbur0Im8B-"
      },
      "source": [
        "#apply PCA\n",
        "from sklearn.decomposition import PCA\n",
        "pca = PCA(n_components=5)\n",
        "#label\n",
        "#training set\n",
        "pca.fit_transform(x_train.values)\n",
        "x_train_PCA = pca.transform(x_train)\n",
        "x_train_PCA = pd.DataFrame(x_train_PCA, columns=['PC1','PC2','PC3','PC4','PC5'])\n",
        "\n",
        "pca_drop = PCA(n_components=5)\n",
        "pca_drop.fit_transform(x_train_drop.values)\n",
        "x_train_PCA_drop = pca_drop.transform(x_train_drop)\n",
        "x_train_PCA_drop = pd.DataFrame(x_train_PCA_drop, columns=['PC1','PC2','PC3','PC4','PC5'])"
      ],
      "execution_count": 10,
      "outputs": []
    },
    {
      "cell_type": "code",
      "metadata": {
        "colab": {
          "base_uri": "https://localhost:8080/"
        },
        "id": "eFCUILAHm8CA",
        "outputId": "6c1ec78b-22f5-4978-d055-faf47a32b842"
      },
      "source": [
        "print(pca.explained_variance_ratio_.cumsum())\n",
        "print(pca_drop.explained_variance_ratio_.cumsum())"
      ],
      "execution_count": 11,
      "outputs": [
        {
          "output_type": "stream",
          "name": "stdout",
          "text": [
            "[0.80475736 0.9550101  0.99377519 0.99697222 0.99995687]\n",
            "[0.81635784 0.95841355 0.99445876 0.99725442 0.99996134]\n"
          ]
        }
      ]
    },
    {
      "cell_type": "code",
      "metadata": {
        "id": "dSjUtnYym8CB"
      },
      "source": [
        "pca_onehot = PCA(n_components=2)\n",
        "#onehot\n",
        "#training set\n",
        "pca_onehot.fit_transform(x_train.values)\n",
        "x_train_onehot_PCA = pca_onehot.transform(x_train)\n",
        "x_train_onehot_PCA = pd.DataFrame(x_train_onehot_PCA, columns=['PC1','PC2'])\n",
        "# x_train_label_PCA \n",
        "\n",
        "#testing set\n",
        "x_test_onehot_PCA = pca_onehot.transform(x_test)\n",
        "x_test_onehot_PCA = pd.DataFrame(x_test_onehot_PCA, columns=['PC1','PC2'])\n",
        "\n",
        "pca_drop = PCA(n_components=2)\n",
        "\n",
        "pca_drop.fit_transform(x_train_drop.values)\n",
        "x_train_onehot_PCA_drop = pca_drop.transform(x_train_drop)\n",
        "x_train_onehot_PCA_drop = pd.DataFrame(x_train_onehot_PCA_drop, columns=['PC1','PC2'])\n",
        "# x_train_label_PCA \n",
        "\n",
        "#testing set\n",
        "x_test_onehot_PCA_drop = pca_drop.transform(x_test_drop)\n",
        "x_test_onehot_PCA_drop = pd.DataFrame(x_test_onehot_PCA_drop, columns=['PC1','PC2'])"
      ],
      "execution_count": 12,
      "outputs": []
    },
    {
      "cell_type": "code",
      "metadata": {
        "colab": {
          "base_uri": "https://localhost:8080/"
        },
        "id": "pXpAeoUzm8CC",
        "outputId": "74b8235a-79b6-42b8-e0ef-e8efb6fefed5"
      },
      "source": [
        "print(pca_onehot.explained_variance_ratio_.cumsum())\n",
        "print(pca_drop.explained_variance_ratio_.cumsum())"
      ],
      "execution_count": 13,
      "outputs": [
        {
          "output_type": "stream",
          "name": "stdout",
          "text": [
            "[0.80475736 0.9550101 ]\n",
            "[0.81635784 0.95841355]\n"
          ]
        }
      ]
    },
    {
      "cell_type": "code",
      "metadata": {
        "colab": {
          "base_uri": "https://localhost:8080/",
          "height": 421
        },
        "id": "YmypgWhcm8CE",
        "outputId": "936a42af-1339-49c8-ed45-f2ed3830ca71"
      },
      "source": [
        "#create model\n",
        "#import machine learning library\n",
        "from sklearn.neighbors import KNeighborsClassifier\n",
        "import matplotlib.pyplot as plt\n",
        "\n",
        "#onehot\n",
        "#find best k\n",
        "error = []\n",
        "for i in range(1,40):\n",
        "    knn = KNeighborsClassifier(n_neighbors=i)\n",
        "    knn.fit(x_train_onehot_PCA_drop,y_train_drop)\n",
        "    pred_i = knn.predict(x_test_onehot_PCA_drop)\n",
        "    error.append(np.mean(pred_i != y_test_drop))\n",
        "\n",
        "#visualization\n",
        "plt.figure(figsize=(10,6))\n",
        "plt.plot(range(1,40),error,color = 'blue',linestyle='dashed', \n",
        "         marker='o',markerfacecolor='red', markersize=10)\n",
        "plt.title('error vs. K Value')\n",
        "plt.xlabel('K')\n",
        "plt.ylabel('error')\n",
        "print(\"Minimum error:-\",min(error),\"at K =\",error.index(min(error))+1)"
      ],
      "execution_count": 14,
      "outputs": [
        {
          "output_type": "stream",
          "name": "stdout",
          "text": [
            "Minimum error:- 0.05374845881657161 at K = 18\n"
          ]
        },
        {
          "output_type": "display_data",
          "data": {
            "image/png": "[encoded data removed]",
            "text/plain": [
              "<Figure size 720x432 with 1 Axes>"
            ]
          },
          "metadata": {
            "needs_background": "light"
          }
        }
      ]
    },
    {
      "cell_type": "code",
      "metadata": {
        "colab": {
          "base_uri": "https://localhost:8080/"
        },
        "id": "JusEhSWQm8CF",
        "outputId": "ae23b934-2bc7-4b17-e6e3-4ae4f34bb5f0"
      },
      "source": [
        "knn = KNeighborsClassifier(n_neighbors= 18)\n",
        "model_knn = knn.fit(x_train_onehot_PCA,y_train)\n",
        "y_pred_knn = model_knn.predict(x_train_onehot_PCA)\n",
        "\n",
        "from sklearn.metrics import classification_report,confusion_matrix,plot_confusion_matrix\n",
        "#training set\n",
        "print(\"Classification report \\n=======================\")\n",
        "print(classification_report(y_true=y_train, y_pred=y_pred_knn))\n",
        "print(\"Confusion matrix \\n=======================\")\n",
        "print(confusion_matrix(y_true=y_train, y_pred=y_pred_knn))"
      ],
      "execution_count": 15,
      "outputs": [
        {
          "output_type": "stream",
          "name": "stdout",
          "text": [
            "Classification report \n",
            "=======================\n",
            "              precision    recall  f1-score   support\n",
            "\n",
            "           0       0.95      1.00      0.97     88111\n",
            "           1       0.80      0.19      0.30      5479\n",
            "\n",
            "    accuracy                           0.95     93590\n",
            "   macro avg       0.88      0.59      0.64     93590\n",
            "weighted avg       0.94      0.95      0.93     93590\n",
            "\n",
            "Confusion matrix \n",
            "=======================\n",
            "[[87861   250]\n",
            " [ 4458  1021]]\n"
          ]
        }
      ]
    },
    {
      "cell_type": "code",
      "metadata": {
        "colab": {
          "base_uri": "https://localhost:8080/"
        },
        "id": "hZ3orD8Km8CG",
        "outputId": "4389a307-b2b2-4589-93cd-2cbb77055e4d"
      },
      "source": [
        "knn = KNeighborsClassifier(n_neighbors= 18)\n",
        "model_knn = knn.fit(x_train_onehot_PCA,y_train)\n",
        "y_pred_knn = model_knn.predict(x_test_onehot_PCA)\n",
        "\n",
        "from sklearn.metrics import classification_report,confusion_matrix,plot_confusion_matrix\n",
        "#training set\n",
        "print(\"Classification report \\n=======================\")\n",
        "print(classification_report(y_true=y_test, y_pred=y_pred_knn))\n",
        "print(\"Confusion matrix \\n=======================\")\n",
        "print(confusion_matrix(y_true=y_test, y_pred=y_pred_knn))"
      ],
      "execution_count": 16,
      "outputs": [
        {
          "output_type": "stream",
          "name": "stdout",
          "text": [
            "Classification report \n",
            "=======================\n",
            "              precision    recall  f1-score   support\n",
            "\n",
            "           0       0.95      1.00      0.97     44708\n",
            "           1       0.80      0.19      0.30      2683\n",
            "\n",
            "    accuracy                           0.95     47391\n",
            "   macro avg       0.87      0.59      0.64     47391\n",
            "weighted avg       0.94      0.95      0.94     47391\n",
            "\n",
            "Confusion matrix \n",
            "=======================\n",
            "[[44580   128]\n",
            " [ 2184   499]]\n"
          ]
        }
      ]
    },
    {
      "cell_type": "code",
      "metadata": {
        "colab": {
          "base_uri": "https://localhost:8080/"
        },
        "id": "A4Y7fU99m8CH",
        "outputId": "022ff131-3ade-48a5-eb7a-7878cc684eff"
      },
      "source": [
        "kn = KNeighborsClassifier(n_neighbors= 18)\n",
        "model_knn = kn.fit(x_train_onehot_PCA_drop,y_train_drop)\n",
        "y_pred_knn = model_knn.predict(x_test_onehot_PCA_drop)\n",
        "\n",
        "from sklearn.metrics import classification_report,confusion_matrix,plot_confusion_matrix\n",
        "#training set\n",
        "print(\"Classification report \\n=======================\")\n",
        "print(classification_report(y_true=y_test_drop, y_pred=y_pred_knn))\n",
        "print(\"Confusion matrix \\n=======================\")\n",
        "print(confusion_matrix(y_true=y_test_drop, y_pred=y_pred_knn))"
      ],
      "execution_count": 17,
      "outputs": [
        {
          "output_type": "stream",
          "name": "stdout",
          "text": [
            "Classification report \n",
            "=======================\n",
            "              precision    recall  f1-score   support\n",
            "\n",
            "           0       0.95      1.00      0.97     93575\n",
            "           1       0.74      0.21      0.32      6186\n",
            "\n",
            "    accuracy                           0.95     99761\n",
            "   macro avg       0.84      0.60      0.65     99761\n",
            "weighted avg       0.94      0.95      0.93     99761\n",
            "\n",
            "Confusion matrix \n",
            "=======================\n",
            "[[93128   447]\n",
            " [ 4915  1271]]\n"
          ]
        }
      ]
    }
  ]
}